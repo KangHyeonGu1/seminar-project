{
  "cells": [
    {
      "cell_type": "markdown",
      "metadata": {
        "id": "view-in-github",
        "colab_type": "text"
      },
      "source": [
        "<a href=\"https://colab.research.google.com/github/KangHyeonGu1/seminar-project/blob/master/solar.ipynb\" target=\"_parent\"><img src=\"https://colab.research.google.com/assets/colab-badge.svg\" alt=\"Open In Colab\"/></a>"
      ]
    },
    {
      "cell_type": "code",
      "execution_count": 48,
      "metadata": {
        "id": "eCWSAJDVTG-h"
      },
      "outputs": [],
      "source": [
        "import pandas as pd\n",
        "import numpy as np\n",
        "import seaborn as sns\n",
        "from statsmodels.formula.api import ols\n",
        "import scipy.stats as stats\n",
        "import matplotlib.pyplot as plt\n",
        "data = pd.read_csv(\"solar.txt\")\n",
        "data.head\n",
        "data=data.rename(columns={'cloud cover':'sky_cover'})\n"
      ]
    },
    {
      "cell_type": "code",
      "execution_count": 49,
      "metadata": {
        "colab": {
          "base_uri": "https://localhost:8080/"
        },
        "id": "j5q_HWoR9Xsj",
        "outputId": "1811a577-672e-43ef-9f40-1ac767293f15"
      },
      "outputs": [
        {
          "output_type": "execute_result",
          "data": {
            "text/plain": [
              "Intercept         0.660823\n",
              "temp              0.358470\n",
              "sky_cover        -0.011836\n",
              "temp:sky_cover    0.033936\n",
              "humidity         -0.836903\n",
              "dtype: float64"
            ]
          },
          "metadata": {},
          "execution_count": 49
        }
      ],
      "source": [
        "rm = ols(' day_power~ temp + sky_cover + temp*sky_cover + humidity', data=data).fit()\n",
        "rm.summary()\n",
        "rm.params"
      ]
    },
    {
      "cell_type": "code",
      "execution_count": 3,
      "metadata": {
        "colab": {
          "base_uri": "https://localhost:8080/"
        },
        "id": "Ox-eeCHVEY4a",
        "outputId": "c3ad9326-7174-416d-8b3e-7c48f4de999d"
      },
      "outputs": [
        {
          "output_type": "execute_result",
          "data": {
            "text/plain": [
              "Intercept    0.833282\n",
              "temp        -0.429135\n",
              "dtype: float64"
            ]
          },
          "metadata": {},
          "execution_count": 3
        }
      ],
      "source": [
        "rm = ols(' humidity~ temp', data=data).fit()\n",
        "rm.summary()\n",
        "rm.params"
      ]
    },
    {
      "cell_type": "code",
      "source": [
        "rm = ols(' day_power~ temp', data=data).fit()\n",
        "rm.summary()\n",
        "rm.params"
      ],
      "metadata": {
        "colab": {
          "base_uri": "https://localhost:8080/"
        },
        "id": "1MbhTS9RCD1J",
        "outputId": "1a4fe877-8be6-471b-ab7f-60f3b96d5510"
      },
      "execution_count": 91,
      "outputs": [
        {
          "output_type": "execute_result",
          "data": {
            "text/plain": [
              "Intercept   -0.082303\n",
              "temp         0.851459\n",
              "dtype: float64"
            ]
          },
          "metadata": {},
          "execution_count": 91
        }
      ]
    },
    {
      "cell_type": "code",
      "execution_count": 14,
      "metadata": {
        "id": "fjeqHa-akwPr"
      },
      "outputs": [],
      "source": [
        "# 독립변수 기온 spread설정과 삼각퍼지화\n",
        "te=data['temp']\n",
        "spreadx= [None] * 1332\n",
        "for i in range(0,1331):\n",
        "  spreadx[i]= (np.abs(te[i+1]-te[i]))/2\n",
        "spreadx[1331]=spreadx[1330]\n",
        "x1= te-spreadx\n",
        "x2= te+spreadx\n",
        "xdf=pd.DataFrame({'a':x1,'b':te,'c':x2})\n",
        "xa=xdf[xdf['a']< 0]\n",
        "xdf.loc[xa.index,'a']=0\n",
        "x=xdf.to_numpy()"
      ]
    },
    {
      "cell_type": "code",
      "execution_count": 5,
      "metadata": {
        "id": "yd9FmNnBo77r"
      },
      "outputs": [],
      "source": [
        "hu=data['humidity']\n",
        "spreadm= [None] * 1332\n",
        "for i in range(0,1331):\n",
        "  spreadm[i]= (np.abs(hu[i+1]-hu[i]))/2\n",
        "spreadm[1331]=spreadm[1330]\n",
        "m1= hu-spreadm\n",
        "m2= hu+spreadm\n",
        "mdf=pd.DataFrame({'a':m1,'b':hu,'c':m2})\n",
        "ma=mdf[mdf['a']< 0]\n",
        "mdf.loc[ma.index,'a']=0\n",
        "m=mdf.to_numpy()"
      ]
    },
    {
      "cell_type": "code",
      "execution_count": 6,
      "metadata": {
        "id": "33RCDHklvJ9a"
      },
      "outputs": [],
      "source": [
        "# 종속변수\n",
        "power=data['day_power']\n",
        "ydf=pd.DataFrame({'a':power,'b':power,'c':power})\n",
        "y= ydf.to_numpy()\n"
      ]
    },
    {
      "cell_type": "code",
      "execution_count": 7,
      "metadata": {
        "id": "STFHOrw87ibd"
      },
      "outputs": [],
      "source": [
        "# 조절변수\n",
        "cl=data['sky_cover']\n",
        "w1= cl-1\n",
        "w2= cl+1\n",
        "wdf=pd.DataFrame({'a':w1,'b':cl,'c':w2})\n",
        "wa=wdf[wdf['a']< 1]\n",
        "wdf.loc[wa.index,'a']=1\n",
        "wc=wdf[wdf['c']> 8]\n",
        "wdf.loc[wc.index,'c']=8\n",
        "w=wdf.to_numpy()"
      ]
    },
    {
      "cell_type": "code",
      "execution_count": 8,
      "metadata": {
        "id": "ZgqjNVTxHBas"
      },
      "outputs": [],
      "source": [
        "ones=np.ones(shape=(1332,3))\n",
        "def dc(a,b):          \n",
        "  c=a*b\n",
        "  sum=c.sum()\n",
        "  return sum"
      ]
    },
    {
      "cell_type": "code",
      "source": [
        "spreadx[0]"
      ],
      "metadata": {
        "colab": {
          "base_uri": "https://localhost:8080/"
        },
        "id": "AeR12M8HLIVB",
        "outputId": "ae794645-08a4-496d-8fdb-978acffe5510"
      },
      "execution_count": 16,
      "outputs": [
        {
          "output_type": "execute_result",
          "data": {
            "text/plain": [
              "0.028943421949556902"
            ]
          },
          "metadata": {},
          "execution_count": 16
        }
      ]
    },
    {
      "cell_type": "code",
      "execution_count": 31,
      "metadata": {
        "id": "7HqyEiIZF14f"
      },
      "outputs": [],
      "source": [
        "def freg(data):\n",
        " te=data['temp']\n",
        " spread= [None] * 1332\n",
        " for i in range(0,1332):\n",
        "    spread[i]= spreadx[te.index[i]]\n",
        " x1= te-spread\n",
        " x2= te+spread\n",
        " xdf=pd.DataFrame({'a':x1,'b':te,'c':x2})\n",
        " xa=xdf[xdf['a']< 0]\n",
        " xdf.loc[xa.index,'a']=0\n",
        " x=xdf.to_numpy()\n",
        "\n",
        " hu=data['humidity']\n",
        " spreadm2= [None] * 1332\n",
        " for i in range(0,1332):\n",
        "  spreadm2[i]= spreadm[hu.index[i]]\n",
        " m1= hu-spreadm2\n",
        " m2= hu+spreadm2\n",
        " mdf=pd.DataFrame({'a':m1,'b':hu,'c':m2})\n",
        " ma=mdf[mdf['a']< 0]\n",
        " mdf.loc[ma.index,'a']=0\n",
        " m=mdf.to_numpy()\n",
        "\n",
        " power=data['day_power']\n",
        " ydf=pd.DataFrame({'a':power,'b':power,'c':power})\n",
        " y= ydf.to_numpy()\n",
        "\n",
        " cl=data['sky_cover']\n",
        " w1= cl-1\n",
        " w2= cl+1\n",
        " wdf=pd.DataFrame({'a':w1,'b':cl,'c':w2})\n",
        " wa=wdf[wdf['a']< 1]\n",
        " wdf.loc[wa.index,'a']=1\n",
        " wc=wdf[wdf['c']> 8]\n",
        " wdf.loc[wc.index,'c']=8\n",
        " w=wdf.to_numpy()\n",
        " xw=x*w\n",
        " xtx=np.zeros(shape=(2,2))\n",
        " xlist=[ones,x]\n",
        " for i in range(0,2):   \n",
        "    for j in range(0,2):\n",
        "      xtx[i,j]= dc(xlist[i],xlist[j])\n",
        " xtm=np.zeros(shape=(2,1))   \n",
        " for i in range(0,2):   \n",
        "    for j in range(0,1):\n",
        "      xtm[i,j]= dc(xlist[i],m)\n",
        " lxtx=np.linalg.inv(xtx)\n",
        " b=lxtx@xtm\n",
        " b=np.around(b, decimals=4)\n",
        "\n",
        " xtx2=np.zeros(shape=(5,5))\n",
        " xlist2=[ones,x,w,xw,m]\n",
        " for i in range(0,5):   \n",
        "    for j in range(0,5):\n",
        "      xtx2[i,j]= dc(xlist2[i],xlist2[j])\n",
        " xty=np.zeros(shape=(5,1))   \n",
        " for i in range(0,5):   \n",
        "    for j in range(0,1):\n",
        "      xty[i,j]= dc(xlist2[i],y)\n",
        " lxtx2=np.linalg.inv(xtx2)\n",
        " b2=lxtx2@xty\n",
        " b2=np.around(b2, decimals=4)\n",
        " xtx3=np.zeros(shape=(2,2))\n",
        " xlist3=[ones,x]\n",
        " for i in range(0,2):    \n",
        "    for j in range(0,2):\n",
        "      xtx3[i,j]= dc(xlist3[i],xlist3[j])\n",
        " xty3=np.zeros(shape=(2,1))\n",
        " for i in range(0,2):    \n",
        "    for j in range(0,1):\n",
        "      xty3[i,j]= dc(xlist3[i],y)\n",
        " lxtx3=np.linalg.inv(xtx3)\n",
        " b3=lxtx3@xty3\n",
        " b3=np.around(b3, decimals=4)\n",
        " b3 \n",
        " return b, b2,b3"
      ]
    },
    {
      "cell_type": "code",
      "execution_count": 50,
      "metadata": {
        "colab": {
          "base_uri": "https://localhost:8080/"
        },
        "id": "DFNQP-haGsVa",
        "outputId": "97a34841-ccd9-49aa-d291-3168f8f14882"
      },
      "outputs": [
        {
          "output_type": "execute_result",
          "data": {
            "text/plain": [
              "(array([[ 0.8189],\n",
              "        [-0.4   ]]), array([[ 0.5929],\n",
              "        [ 0.3925],\n",
              "        [-0.0067],\n",
              "        [ 0.0324],\n",
              "        [-0.7851]]), array([[-0.0751],\n",
              "        [ 0.8369]]))"
            ]
          },
          "metadata": {},
          "execution_count": 50
        }
      ],
      "source": [
        "para=freg(data)\n",
        "para\n",
        "a=para[0][1]\n",
        "b=para[1][4]\n",
        "c1=para[1][1]\n",
        "c2=para[1][2]\n",
        "c3=para[1][3]\n",
        "c=para[2][1]\n",
        "para"
      ]
    },
    {
      "cell_type": "code",
      "execution_count": 12,
      "metadata": {
        "colab": {
          "base_uri": "https://localhost:8080/"
        },
        "id": "Tv7B-BT8G0-Z",
        "outputId": "2d856c39-3066-44d8-d317-a436f585b5b9"
      },
      "outputs": [
        {
          "output_type": "execute_result",
          "data": {
            "text/plain": [
              "0.00889794270774266"
            ]
          },
          "metadata": {},
          "execution_count": 12
        }
      ],
      "source": [
        "# sea\n",
        "x_m=x.sum(axis=0)/1332\n",
        "x_m\n",
        "d2=(x-x_m)**2\n",
        "sda=np.sqrt(d2.sum()/1331)\n",
        "sea=sda/np.sqrt(1332)\n",
        "sea"
      ]
    },
    {
      "cell_type": "code",
      "execution_count": 13,
      "metadata": {
        "colab": {
          "base_uri": "https://localhost:8080/"
        },
        "id": "r1GktvfIelvW",
        "outputId": "84afbc76-d5c7-4bae-e5d1-4adbb66782dd"
      },
      "outputs": [
        {
          "output_type": "execute_result",
          "data": {
            "text/plain": [
              "0.0077108953758481605"
            ]
          },
          "metadata": {},
          "execution_count": 13
        }
      ],
      "source": [
        "# seb\n",
        "m_m=m.sum(axis=0)/1332\n",
        "m_m\n",
        "d2=(m-m_m)**2\n",
        "sdb=np.sqrt(d2.sum()/1331)\n",
        "seb=sdb/np.sqrt(1332)\n",
        "seb"
      ]
    },
    {
      "cell_type": "code",
      "source": [
        "# sew\n",
        "w_m=w.sum(axis=0)/1332\n",
        "w_m\n",
        "d2=(w-w_m)**2\n",
        "sdw=np.sqrt(d2.sum()/1331)\n",
        "sew=sdw/np.sqrt(1332)\n",
        "sew"
      ],
      "metadata": {
        "colab": {
          "base_uri": "https://localhost:8080/"
        },
        "id": "bqHUk6dP4-3u",
        "outputId": "a24d30de-6449-49b0-a2b4-fd21acc7fc11"
      },
      "execution_count": 14,
      "outputs": [
        {
          "output_type": "execute_result",
          "data": {
            "text/plain": [
              "0.06006941551329541"
            ]
          },
          "metadata": {},
          "execution_count": 14
        }
      ]
    },
    {
      "cell_type": "code",
      "source": [
        "# sexw\n",
        "xw=x*w\n",
        "xw_m=xw.sum(axis=0)/1332\n",
        "xw_m\n",
        "d2=(xw-xw_m)**2\n",
        "sdxw=np.sqrt(d2.sum()/1331)\n",
        "sexw=sdxw/np.sqrt(1332)\n",
        "sexw"
      ],
      "metadata": {
        "colab": {
          "base_uri": "https://localhost:8080/"
        },
        "id": "RoW0YpV15HEo",
        "outputId": "b980f7fa-3d8e-4fd5-af85-fb601a7e5ffb"
      },
      "execution_count": 15,
      "outputs": [
        {
          "output_type": "execute_result",
          "data": {
            "text/plain": [
              "0.044206519563636"
            ]
          },
          "metadata": {},
          "execution_count": 15
        }
      ]
    },
    {
      "cell_type": "code",
      "source": [
        "seab=np.sqrt((a**2*seb**2)+ (b**2*sea**2) + (sea**2*seb**2) )\n",
        "seab"
      ],
      "metadata": {
        "id": "-6gRunDGBQW8",
        "colab": {
          "base_uri": "https://localhost:8080/"
        },
        "outputId": "2d5e983f-2f48-4596-8b07-ecc16cf8b447"
      },
      "execution_count": 16,
      "outputs": [
        {
          "output_type": "execute_result",
          "data": {
            "text/plain": [
              "array([0.00763669])"
            ]
          },
          "metadata": {},
          "execution_count": 16
        }
      ]
    },
    {
      "cell_type": "code",
      "source": [
        "# w 계수 c2 의 95% 신뢰구간과 z값 검정\n",
        "CI=[c2-1.96*sew,c2+1.96*sew]\n",
        "z=c2/sew\n",
        "p = 2 * (1 - stats.norm.cdf(np.abs(z)))\n",
        "print(CI,p)"
      ],
      "metadata": {
        "colab": {
          "base_uri": "https://localhost:8080/"
        },
        "id": "_iuQuIb942Cq",
        "outputId": "3a3166e0-eda7-4169-d490-da6120d9ea13"
      },
      "execution_count": 17,
      "outputs": [
        {
          "output_type": "stream",
          "name": "stdout",
          "text": [
            "[array([-0.12443605]), array([0.11103605])] [0.91119003]\n"
          ]
        }
      ]
    },
    {
      "cell_type": "code",
      "source": [
        "# xw 계수 c3 의 95% 신뢰구간과 z값 검정\n",
        "CI=[c3-1.96*sexw,c3+1.96*sexw]\n",
        "z=c3/sexw\n",
        "p = 2 * (1 - stats.norm.cdf(np.abs(z)))\n",
        "print(CI,p)"
      ],
      "metadata": {
        "colab": {
          "base_uri": "https://localhost:8080/"
        },
        "id": "6R0-hT7v42So",
        "outputId": "fbf734e8-7f35-4eb1-aecb-53694e640041"
      },
      "execution_count": 18,
      "outputs": [
        {
          "output_type": "stream",
          "name": "stdout",
          "text": [
            "[array([-0.05424478]), array([0.11904478])] [0.46360505]\n"
          ]
        }
      ]
    },
    {
      "cell_type": "code",
      "source": [
        "# ab \n",
        "ab=a*b\n",
        "CI=[ab-1.96*seab,ab+1.96*seab]\n",
        "z=ab/seab\n",
        "p = 2 * (1 - stats.norm.cdf(np.abs(z)))\n",
        "print(CI,p)"
      ],
      "metadata": {
        "colab": {
          "base_uri": "https://localhost:8080/"
        },
        "id": "SGxy8wye4eVL",
        "outputId": "579a44aa-ef3f-42ae-a2b2-e2c790ed9f5d"
      },
      "execution_count": 19,
      "outputs": [
        {
          "output_type": "stream",
          "name": "stdout",
          "text": [
            "[array([0.29907209]), array([0.32900791])] [0.]\n"
          ]
        }
      ]
    },
    {
      "cell_type": "code",
      "execution_count": 37,
      "metadata": {
        "id": "NMxgVg4NiJU4"
      },
      "outputs": [],
      "source": [
        "#부트스트랩 표본\n",
        "a_boot=[None]*5000\n",
        "c1_boot=[None]*5000\n",
        "c2_boot=[None]*5000\n",
        "b_boot=[None]*5000\n",
        "c3_boot=[None]*5000\n",
        "c_boot=[None]*5000\n",
        "for i in range(0,5000):\n",
        "  new_data=data.sample(n=1332,replace=True)\n",
        "  parameters=freg(new_data)\n",
        "  a_boot[i]= parameters[0][1]\n",
        "  c1_boot[i]= parameters[1][1]\n",
        "  c2_boot[i]= parameters[1][2]\n",
        "  b_boot[i]= parameters[1][4]\n",
        "  c3_boot[i]= parameters[1][3]\n",
        "  c_boot[i]= parameters[2][1]\n"
      ]
    },
    {
      "cell_type": "code",
      "source": [
        "np.save('a_boot',a_boot)\n",
        "np.save('b_boot',b_boot)\n",
        "np.save('c_boot',c_boot)\n",
        "np.save('c1_boot',c1_boot)\n",
        "np.save('c2_boot',c2_boot)\n",
        "np.save('c3_boot',c3_boot)"
      ],
      "metadata": {
        "id": "FQgndghgA_2k"
      },
      "execution_count": 39,
      "outputs": []
    },
    {
      "cell_type": "code",
      "source": [
        "a_boot=np.load('a_boot.npy')\n",
        "c1_boot=np.load('c1_boot.npy')\n",
        "c2_boot=np.load('c2_boot.npy')\n",
        "c3_boot=np.load('c3_boot.npy')\n",
        "b_boot=np.load('b_boot.npy')\n",
        "c_boot=np.load('c_boot.npy')\n",
        "ab_boot=a_boot*b_boot"
      ],
      "metadata": {
        "id": "aK1s-6vDBS1Q"
      },
      "execution_count": 40,
      "outputs": []
    },
    {
      "cell_type": "code",
      "source": [
        "a_boot= a_boot.tolist()\n",
        "b_boot= b_boot.tolist()\n",
        "c_boot= c_boot.tolist()\n",
        "c1_boot= c1_boot.tolist()\n",
        "c2_boot= c2_boot.tolist()\n",
        "c3_boot= c3_boot.tolist()\n",
        "ab_boot= ab_boot.tolist()"
      ],
      "metadata": {
        "id": "AmFhd-3iFiHI"
      },
      "execution_count": 41,
      "outputs": []
    },
    {
      "cell_type": "code",
      "source": [
        "a_boot.sort()\n",
        "b_boot.sort()\n",
        "c_boot.sort()\n",
        "c1_boot.sort()\n",
        "c2_boot.sort()\n",
        "c3_boot.sort()\n",
        "ab_boot.sort()\n",
        "a_boot=np.array(a_boot)\n",
        "b_boot=np.array(b_boot)\n",
        "c_boot=np.array(c_boot)\n",
        "c1_boot=np.array(c1_boot)\n",
        "c2_boot=np.array(c2_boot)\n",
        "c3_boot=np.array(c3_boot)\n",
        "ab_boot=np.array(ab_boot)"
      ],
      "metadata": {
        "id": "T2STNbKOFocG"
      },
      "execution_count": 42,
      "outputs": []
    },
    {
      "cell_type": "code",
      "source": [
        "sns.histplot(b_boot)"
      ],
      "metadata": {
        "colab": {
          "base_uri": "https://localhost:8080/",
          "height": 283
        },
        "id": "Ife7un8C7ltt",
        "outputId": "340cf7f3-7742-4231-8c59-bf3935c9b084"
      },
      "execution_count": 43,
      "outputs": [
        {
          "output_type": "execute_result",
          "data": {
            "text/plain": [
              "<AxesSubplot:ylabel='Count'>"
            ]
          },
          "metadata": {},
          "execution_count": 43
        },
        {
          "output_type": "display_data",
          "data": {
            "text/plain": [
              "<Figure size 432x288 with 1 Axes>"
            ],
            "image/png": "[encoded data removed]"
          },
          "metadata": {
            "needs_background": "light"
          }
        }
      ]
    },
    {
      "cell_type": "code",
      "source": [
        "sns.histplot(ab_boot)\n",
        "plt.ylabel(\"Frequency\")"
      ],
      "metadata": {
        "colab": {
          "base_uri": "https://localhost:8080/",
          "height": 283
        },
        "id": "mDnPmwOxFwzr",
        "outputId": "94ff606f-5a39-42a3-93a8-4969fe36d6aa"
      },
      "execution_count": 51,
      "outputs": [
        {
          "output_type": "execute_result",
          "data": {
            "text/plain": [
              "Text(0, 0.5, 'Frequency')"
            ]
          },
          "metadata": {},
          "execution_count": 51
        },
        {
          "output_type": "display_data",
          "data": {
            "text/plain": [
              "<Figure size 432x288 with 1 Axes>"
            ],
            "image/png": "[encoded data removed]"
          },
          "metadata": {
            "needs_background": "light"
          }
        }
      ]
    },
    {
      "cell_type": "code",
      "source": [
        "sns.histplot(c2_boot)\n",
        "plt.ylabel(\"Frequency\")"
      ],
      "metadata": {
        "colab": {
          "base_uri": "https://localhost:8080/",
          "height": 283
        },
        "id": "ERuF1fzI5jwY",
        "outputId": "e9590e46-d011-4733-9118-c294b9c02f85"
      },
      "execution_count": 46,
      "outputs": [
        {
          "output_type": "execute_result",
          "data": {
            "text/plain": [
              "Text(0, 0.5, 'Frequency')"
            ]
          },
          "metadata": {},
          "execution_count": 46
        },
        {
          "output_type": "display_data",
          "data": {
            "text/plain": [
              "<Figure size 432x288 with 1 Axes>"
            ],
            "image/png": "[encoded data removed]"
          },
          "metadata": {
            "needs_background": "light"
          }
        }
      ]
    },
    {
      "cell_type": "code",
      "source": [
        "sns.histplot(c3_boot)\n",
        "plt.ylabel(\"Frequency\")"
      ],
      "metadata": {
        "colab": {
          "base_uri": "https://localhost:8080/",
          "height": 285
        },
        "id": "7DlNuxxJ5wMn",
        "outputId": "e5abcaca-7e0f-4b0d-fd1e-a98fcc07c6de"
      },
      "execution_count": 45,
      "outputs": [
        {
          "output_type": "execute_result",
          "data": {
            "text/plain": [
              "Text(0, 0.5, 'Frequency')"
            ]
          },
          "metadata": {},
          "execution_count": 45
        },
        {
          "output_type": "display_data",
          "data": {
            "text/plain": [
              "<Figure size 432x288 with 1 Axes>"
            ],
            "image/png": "[encoded data removed]"
          },
          "metadata": {
            "needs_background": "light"
          }
        }
      ]
    },
    {
      "cell_type": "code",
      "source": [
        "sns.histplot(a_boot)\n",
        "plt.ylabel(\"Frequency\")"
      ],
      "metadata": {
        "colab": {
          "base_uri": "https://localhost:8080/",
          "height": 283
        },
        "id": "eQ_4e41AAXBX",
        "outputId": "c7b58467-2ac4-467a-e2b0-4c928b869207"
      },
      "execution_count": 44,
      "outputs": [
        {
          "output_type": "execute_result",
          "data": {
            "text/plain": [
              "Text(0, 0.5, 'Frequency')"
            ]
          },
          "metadata": {},
          "execution_count": 44
        },
        {
          "output_type": "display_data",
          "data": {
            "text/plain": [
              "<Figure size 432x288 with 1 Axes>"
            ],
            "image/png": "[encoded data removed]"
          },
          "metadata": {
            "needs_background": "light"
          }
        }
      ]
    },
    {
      "cell_type": "code",
      "source": [
        "# c2에 대한 부트스트랩 신뢰구간\n",
        "c2l=(c2_boot[124]+ c2_boot[125])/2\n",
        "c2u=(c2_boot[4873]+c2_boot[4874])/2\n",
        "c2cl=[c2l,c2u]\n"
      ],
      "metadata": {
        "id": "yOnBbcTHFsJZ"
      },
      "execution_count": 77,
      "outputs": []
    },
    {
      "cell_type": "code",
      "source": [
        "# c3에 대한 부트스트랩 신뢰구간\n",
        "c3l=(c3_boot[124]+ c3_boot[125])/2\n",
        "c3u=(c3_boot[4873]+c3_boot[4874])/2\n",
        "c3cl=[c3l,c3u]\n",
        "c3cl"
      ],
      "metadata": {
        "colab": {
          "base_uri": "https://localhost:8080/"
        },
        "id": "U4QJLLtA6ZUI",
        "outputId": "9cfe8c54-5399-4dd0-b779-b632b7513ce0"
      },
      "execution_count": 37,
      "outputs": [
        {
          "output_type": "execute_result",
          "data": {
            "text/plain": [
              "[array([0.0047]), array([0.03995])]"
            ]
          },
          "metadata": {},
          "execution_count": 37
        }
      ]
    },
    {
      "cell_type": "code",
      "source": [
        "# ab에 대한 부트스트랩 신뢰구간\n",
        "abl=(ab_boot[124]+ ab_boot[125])/2\n",
        "abu=(ab_boot[4873]+ab_boot[4874])/2\n",
        "abcl=[abl,abu]\n",
        "abcl\n"
      ],
      "metadata": {
        "colab": {
          "base_uri": "https://localhost:8080/"
        },
        "id": "51sx9iJC6e3F",
        "outputId": "bc29cfe9-caaf-4e1c-f249-c1a1a44f571c"
      },
      "execution_count": 45,
      "outputs": [
        {
          "output_type": "execute_result",
          "data": {
            "text/plain": [
              "[array([0.10204469]), array([0.15068076])]"
            ]
          },
          "metadata": {},
          "execution_count": 45
        }
      ]
    }
  ],
  "metadata": {
    "accelerator": "GPU",
    "colab": {
      "provenance": [],
      "authorship_tag": "ABX9TyMKO79I+rtM2HUaevndMjDv",
      "include_colab_link": true
    },
    "gpuClass": "standard",
    "kernelspec": {
      "display_name": "Python 3",
      "name": "python3"
    },
    "language_info": {
      "name": "python"
    }
  },
  "nbformat": 4,
  "nbformat_minor": 0
}